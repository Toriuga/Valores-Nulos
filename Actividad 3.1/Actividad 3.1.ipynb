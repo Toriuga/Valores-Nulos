{
 "cells": [
  {
   "cell_type": "code",
   "execution_count": 5,
   "metadata": {},
   "outputs": [
    {
     "data": {
      "text/plain": [
       "indice_tiempo                           0\n",
       "ventas_precios_corrientes               0\n",
       "ventas_precios_constantes               0\n",
       "ventas_totales_canal_venta              0\n",
       "salon_ventas                            6\n",
       "canales_on_line                         0\n",
       "ventas_totales_medio_pago               0\n",
       "efectivo                                0\n",
       "tarjetas_debito                         1\n",
       "tarjetas_credito                        7\n",
       "otros_medios                            1\n",
       "ventas_totales_grupo_articulos          0\n",
       "subtotal_ventas_alimentos_bebidas      10\n",
       "bebidas                                 1\n",
       "almacen                                 2\n",
       "panaderia                               1\n",
       "lacteos                                 1\n",
       "carnes                                  1\n",
       "verduleria_fruteria                     1\n",
       "alimentos_preparados_rotiseria          1\n",
       "articulos_limpieza_perfumeria           0\n",
       "indumentaria_calzado_textiles_hogar     2\n",
       "electronicos_articulos_hogar            3\n",
       "otros                                   4\n",
       "dtype: int64"
      ]
     },
     "execution_count": 5,
     "metadata": {},
     "output_type": "execute_result"
    }
   ],
   "source": [
    "#importamos librerioas requeridas\n",
    "\n",
    "import pandas as pd\n",
    "import numpy as np\n",
    "import matplotlib.pyplot as plt\n",
    "import seaborn as sns\n",
    "\n",
    "#Carga desde un archivo .xlsx sin indice\n",
    "df= pd.read_csv('Ventas_totales.csv')\n",
    "df\n",
    "\n",
    "#Realizamos una copia del dataframe\n",
    "data1=df.copy()\n",
    "\n",
    "#Corroboramos valores nulos\n",
    "valores_nulos=data1.isnull().sum()\n",
    "valores_nulos"
   ]
  },
  {
   "cell_type": "code",
   "execution_count": 6,
   "metadata": {},
   "outputs": [
    {
     "name": "stderr",
     "output_type": "stream",
     "text": [
      "C:\\Users\\dylan\\AppData\\Local\\Temp\\ipykernel_15984\\4091222747.py:13: FutureWarning: Series.fillna with 'method' is deprecated and will raise in a future version. Use obj.ffill() or obj.bfill() instead.\n",
      "  data1[\"tarjetas_debito\"] =data1[\"tarjetas_debito\"].fillna(method=\"ffill\")\n",
      "C:\\Users\\dylan\\AppData\\Local\\Temp\\ipykernel_15984\\4091222747.py:14: FutureWarning: Series.fillna with 'method' is deprecated and will raise in a future version. Use obj.ffill() or obj.bfill() instead.\n",
      "  data1[\"bebidas\"] =data1[\"bebidas\"].fillna(method=\"ffill\")\n",
      "C:\\Users\\dylan\\AppData\\Local\\Temp\\ipykernel_15984\\4091222747.py:15: FutureWarning: Series.fillna with 'method' is deprecated and will raise in a future version. Use obj.ffill() or obj.bfill() instead.\n",
      "  data1[\"panaderia\"] =data1[\"panaderia\"].fillna(method=\"ffill\")\n",
      "C:\\Users\\dylan\\AppData\\Local\\Temp\\ipykernel_15984\\4091222747.py:16: FutureWarning: Series.fillna with 'method' is deprecated and will raise in a future version. Use obj.ffill() or obj.bfill() instead.\n",
      "  data1[\"carnes\"] =data1[\"carnes\"].fillna(method=\"ffill\")\n",
      "C:\\Users\\dylan\\AppData\\Local\\Temp\\ipykernel_15984\\4091222747.py:17: FutureWarning: Series.fillna with 'method' is deprecated and will raise in a future version. Use obj.ffill() or obj.bfill() instead.\n",
      "  data1[\"alimentos_preparados_rotiseria\"] =data1[\"alimentos_preparados_rotiseria\"].fillna(method=\"ffill\")\n",
      "C:\\Users\\dylan\\AppData\\Local\\Temp\\ipykernel_15984\\4091222747.py:20: FutureWarning: Series.fillna with 'method' is deprecated and will raise in a future version. Use obj.ffill() or obj.bfill() instead.\n",
      "  data1[\"otros_medios\"] =data1[\"otros_medios\"].fillna(method=\"bfill\")\n",
      "C:\\Users\\dylan\\AppData\\Local\\Temp\\ipykernel_15984\\4091222747.py:21: FutureWarning: Series.fillna with 'method' is deprecated and will raise in a future version. Use obj.ffill() or obj.bfill() instead.\n",
      "  data1[\"almacen\"] =data1[\"almacen\"].fillna(method=\"bfill\")\n",
      "C:\\Users\\dylan\\AppData\\Local\\Temp\\ipykernel_15984\\4091222747.py:22: FutureWarning: Series.fillna with 'method' is deprecated and will raise in a future version. Use obj.ffill() or obj.bfill() instead.\n",
      "  data1[\"lacteos\"] =data1[\"lacteos\"].fillna(method=\"bfill\")\n",
      "C:\\Users\\dylan\\AppData\\Local\\Temp\\ipykernel_15984\\4091222747.py:23: FutureWarning: Series.fillna with 'method' is deprecated and will raise in a future version. Use obj.ffill() or obj.bfill() instead.\n",
      "  data1[\"verduleria_fruteria\"] =data1[\"verduleria_fruteria\"].fillna(method=\"bfill\")\n"
     ]
    },
    {
     "data": {
      "text/plain": [
       "indice_tiempo                          0\n",
       "ventas_precios_corrientes              0\n",
       "ventas_precios_constantes              0\n",
       "ventas_totales_canal_venta             0\n",
       "salon_ventas                           0\n",
       "canales_on_line                        0\n",
       "ventas_totales_medio_pago              0\n",
       "efectivo                               0\n",
       "tarjetas_debito                        0\n",
       "tarjetas_credito                       0\n",
       "otros_medios                           0\n",
       "ventas_totales_grupo_articulos         0\n",
       "subtotal_ventas_alimentos_bebidas      0\n",
       "bebidas                                0\n",
       "almacen                                0\n",
       "panaderia                              0\n",
       "lacteos                                0\n",
       "carnes                                 0\n",
       "verduleria_fruteria                    0\n",
       "alimentos_preparados_rotiseria         0\n",
       "articulos_limpieza_perfumeria          0\n",
       "indumentaria_calzado_textiles_hogar    0\n",
       "electronicos_articulos_hogar           0\n",
       "otros                                  0\n",
       "dtype: int64"
      ]
     },
     "execution_count": 6,
     "metadata": {},
     "output_type": "execute_result"
    }
   ],
   "source": [
    "#Sustituir valores nulos con promedio o media\n",
    "data1[\"salon_ventas\"]=data1[\"salon_ventas\"].fillna(round(data1[\"salon_ventas\"].mean(),1))\n",
    "data1[\"subtotal_ventas_alimentos_bebidas\"]=data1[\"subtotal_ventas_alimentos_bebidas\"].fillna(round(data1[\"subtotal_ventas_alimentos_bebidas\"].mean(),1))\n",
    "data1[\"tarjetas_credito\"]=data1[\"tarjetas_credito\"].fillna(round(data1[\"tarjetas_credito\"].mean(),1))\n",
    "data1[\"otros\"]=data1[\"otros\"].fillna(round(data1[\"otros\"].mean(),1))\n",
    "\n",
    "#sustituir valores nulos con mediana\n",
    "data1[\"almacen\"]=data1[\"almacen\"].fillna(round(data1[\"almacen\"].median(),1))\n",
    "data1[\"electronicos_articulos_hogar\"]=data1[\"electronicos_articulos_hogar\"].fillna(round(data1[\"electronicos_articulos_hogar\"].median(),1))\n",
    "data1[\"indumentaria_calzado_textiles_hogar\"]=data1[\"indumentaria_calzado_textiles_hogar\"].fillna(round(data1[\"indumentaria_calzado_textiles_hogar\"].median(),1))\n",
    "\n",
    "#Sustituir valores nulos por valores no nulos hacia adelante \"forward fill\"\n",
    "data1[\"tarjetas_debito\"] =data1[\"tarjetas_debito\"].fillna(method=\"ffill\")\n",
    "data1[\"bebidas\"] =data1[\"bebidas\"].fillna(method=\"ffill\")\n",
    "data1[\"panaderia\"] =data1[\"panaderia\"].fillna(method=\"ffill\")\n",
    "data1[\"carnes\"] =data1[\"carnes\"].fillna(method=\"ffill\")\n",
    "data1[\"alimentos_preparados_rotiseria\"] =data1[\"alimentos_preparados_rotiseria\"].fillna(method=\"ffill\")\n",
    "\n",
    "#Sustituir valores nulos por valores no nulos hacia atrás backward fill\"(\"bfill\")\n",
    "data1[\"otros_medios\"] =data1[\"otros_medios\"].fillna(method=\"bfill\")\n",
    "data1[\"almacen\"] =data1[\"almacen\"].fillna(method=\"bfill\")\n",
    "data1[\"lacteos\"] =data1[\"lacteos\"].fillna(method=\"bfill\")\n",
    "data1[\"verduleria_fruteria\"] =data1[\"verduleria_fruteria\"].fillna(method=\"bfill\")\n",
    "\n",
    "#Corroboramos valores nulos\n",
    "valores_nulos=data1.isnull().sum()\n",
    "valores_nulos\n",
    "\n",
    "#Convertir archivo filtrado a CSV\n",
    "data1.to_csv(\"Actividad 3.1.csv\")"
   ]
  }
 ],
 "metadata": {
  "kernelspec": {
   "display_name": "Python 3",
   "language": "python",
   "name": "python3"
  },
  "language_info": {
   "codemirror_mode": {
    "name": "ipython",
    "version": 3
   },
   "file_extension": ".py",
   "mimetype": "text/x-python",
   "name": "python",
   "nbconvert_exporter": "python",
   "pygments_lexer": "ipython3",
   "version": "3.12.1"
  }
 },
 "nbformat": 4,
 "nbformat_minor": 2
}
